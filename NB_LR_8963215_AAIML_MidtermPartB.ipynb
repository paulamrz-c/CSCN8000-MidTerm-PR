{
 "cells": [
  {
   "cell_type": "markdown",
   "id": "68e64dd5",
   "metadata": {},
   "source": [
    "# **MID-TERM PART B**\n",
    "`Paula Ramirez`\n",
    "`8963215`\n",
    "\n",
    "In this notebook, I will use  predictive models such as Gaussian Naive Bayes, Multinomial Naive Bayes, and Logistic Regression to classify data and evaluate their performance."
   ]
  },
  {
   "cell_type": "code",
   "execution_count": 1,
   "id": "b9591598",
   "metadata": {},
   "outputs": [],
   "source": [
    "import matplotlib.pyplot as plt\n",
    "from sklearn.metrics import confusion_matrix, ConfusionMatrixDisplay\n",
    "from sklearn import datasets\n",
    "import numpy as np\n",
    "from sklearn.model_selection import train_test_split\n",
    "import pandas as pd\n",
    "from sklearn.naive_bayes import MultinomialNB, GaussianNB\n",
    "from sklearn.metrics import accuracy_score\n",
    "from sklearn.linear_model import LogisticRegression\n",
    "from sklearn.model_selection import cross_val_score\n"
   ]
  },
  {
   "cell_type": "markdown",
   "id": "d9a69beb",
   "metadata": {},
   "source": [
    "## **Gaussian and Multinominal Classifiers for Wines Dataset**\n",
    "\n",
    "Build a model that can best predict and classify wines into 3 categories. \n",
    "\n",
    "The models considered are:\n",
    "\n",
    "- Gaussian\n",
    "- Multinominal \n",
    "\n",
    "To evaluate model performance, I will measure the accuracy. Also I will use a train-test split strategy."
   ]
  },
  {
   "cell_type": "markdown",
   "id": "498da9c9",
   "metadata": {},
   "source": [
    "### 1. Data Collection\n",
    "Load and preprocessing data from sklearn\n",
    "\n",
    "**Data Set Characteristics:**\n",
    "\n",
    "***Number of Instances:*** 178 (50 in each of three classes)\n",
    "\n",
    "***Number of Attributes:*** 13 numeric, predictive attributes and the class\n",
    "\n",
    "***Attribute Information:***\n",
    "- Alcohol\n",
    "- Malic acid\n",
    "- Ash\n",
    "- Alcalinity of ash  \n",
    "- Magnesium\n",
    "- Total phenols\n",
    "- Flavanoids\n",
    "- Nonflavanoid phenols\n",
    "- Proanthocyanins\n",
    "- Color intensity\n",
    "- Hue\n",
    "- OD280/OD315 of diluted wines\n",
    "- Proline\n",
    "- class: wine Classification (target)\n",
    "    - class_0\n",
    "    - class_1\n",
    "    - class_2\n"
   ]
  },
  {
   "cell_type": "code",
   "execution_count": 2,
   "id": "6bd066f4",
   "metadata": {},
   "outputs": [
    {
     "data": {
      "application/vnd.microsoft.datawrangler.viewer.v0+json": {
       "columns": [
        {
         "name": "index",
         "rawType": "int64",
         "type": "integer"
        },
        {
         "name": "alcohol",
         "rawType": "float64",
         "type": "float"
        },
        {
         "name": "malic_acid",
         "rawType": "float64",
         "type": "float"
        },
        {
         "name": "ash",
         "rawType": "float64",
         "type": "float"
        },
        {
         "name": "alcalinity_of_ash",
         "rawType": "float64",
         "type": "float"
        },
        {
         "name": "magnesium",
         "rawType": "float64",
         "type": "float"
        },
        {
         "name": "total_phenols",
         "rawType": "float64",
         "type": "float"
        },
        {
         "name": "flavanoids",
         "rawType": "float64",
         "type": "float"
        },
        {
         "name": "nonflavanoid_phenols",
         "rawType": "float64",
         "type": "float"
        },
        {
         "name": "proanthocyanins",
         "rawType": "float64",
         "type": "float"
        },
        {
         "name": "color_intensity",
         "rawType": "float64",
         "type": "float"
        },
        {
         "name": "hue",
         "rawType": "float64",
         "type": "float"
        },
        {
         "name": "od280/od315_of_diluted_wines",
         "rawType": "float64",
         "type": "float"
        },
        {
         "name": "proline",
         "rawType": "float64",
         "type": "float"
        },
        {
         "name": "target",
         "rawType": "int64",
         "type": "integer"
        }
       ],
       "ref": "8ea6107d-ff8e-4548-bc9e-ba40fa93ed9d",
       "rows": [
        [
         "0",
         "14.23",
         "1.71",
         "2.43",
         "15.6",
         "127.0",
         "2.8",
         "3.06",
         "0.28",
         "2.29",
         "5.64",
         "1.04",
         "3.92",
         "1065.0",
         "0"
        ],
        [
         "1",
         "13.2",
         "1.78",
         "2.14",
         "11.2",
         "100.0",
         "2.65",
         "2.76",
         "0.26",
         "1.28",
         "4.38",
         "1.05",
         "3.4",
         "1050.0",
         "0"
        ],
        [
         "2",
         "13.16",
         "2.36",
         "2.67",
         "18.6",
         "101.0",
         "2.8",
         "3.24",
         "0.3",
         "2.81",
         "5.68",
         "1.03",
         "3.17",
         "1185.0",
         "0"
        ],
        [
         "3",
         "14.37",
         "1.95",
         "2.5",
         "16.8",
         "113.0",
         "3.85",
         "3.49",
         "0.24",
         "2.18",
         "7.8",
         "0.86",
         "3.45",
         "1480.0",
         "0"
        ],
        [
         "4",
         "13.24",
         "2.59",
         "2.87",
         "21.0",
         "118.0",
         "2.8",
         "2.69",
         "0.39",
         "1.82",
         "4.32",
         "1.04",
         "2.93",
         "735.0",
         "0"
        ]
       ],
       "shape": {
        "columns": 14,
        "rows": 5
       }
      },
      "text/html": [
       "<div>\n",
       "<style scoped>\n",
       "    .dataframe tbody tr th:only-of-type {\n",
       "        vertical-align: middle;\n",
       "    }\n",
       "\n",
       "    .dataframe tbody tr th {\n",
       "        vertical-align: top;\n",
       "    }\n",
       "\n",
       "    .dataframe thead th {\n",
       "        text-align: right;\n",
       "    }\n",
       "</style>\n",
       "<table border=\"1\" class=\"dataframe\">\n",
       "  <thead>\n",
       "    <tr style=\"text-align: right;\">\n",
       "      <th></th>\n",
       "      <th>alcohol</th>\n",
       "      <th>malic_acid</th>\n",
       "      <th>ash</th>\n",
       "      <th>alcalinity_of_ash</th>\n",
       "      <th>magnesium</th>\n",
       "      <th>total_phenols</th>\n",
       "      <th>flavanoids</th>\n",
       "      <th>nonflavanoid_phenols</th>\n",
       "      <th>proanthocyanins</th>\n",
       "      <th>color_intensity</th>\n",
       "      <th>hue</th>\n",
       "      <th>od280/od315_of_diluted_wines</th>\n",
       "      <th>proline</th>\n",
       "      <th>target</th>\n",
       "    </tr>\n",
       "  </thead>\n",
       "  <tbody>\n",
       "    <tr>\n",
       "      <th>0</th>\n",
       "      <td>14.23</td>\n",
       "      <td>1.71</td>\n",
       "      <td>2.43</td>\n",
       "      <td>15.6</td>\n",
       "      <td>127.0</td>\n",
       "      <td>2.80</td>\n",
       "      <td>3.06</td>\n",
       "      <td>0.28</td>\n",
       "      <td>2.29</td>\n",
       "      <td>5.64</td>\n",
       "      <td>1.04</td>\n",
       "      <td>3.92</td>\n",
       "      <td>1065.0</td>\n",
       "      <td>0</td>\n",
       "    </tr>\n",
       "    <tr>\n",
       "      <th>1</th>\n",
       "      <td>13.20</td>\n",
       "      <td>1.78</td>\n",
       "      <td>2.14</td>\n",
       "      <td>11.2</td>\n",
       "      <td>100.0</td>\n",
       "      <td>2.65</td>\n",
       "      <td>2.76</td>\n",
       "      <td>0.26</td>\n",
       "      <td>1.28</td>\n",
       "      <td>4.38</td>\n",
       "      <td>1.05</td>\n",
       "      <td>3.40</td>\n",
       "      <td>1050.0</td>\n",
       "      <td>0</td>\n",
       "    </tr>\n",
       "    <tr>\n",
       "      <th>2</th>\n",
       "      <td>13.16</td>\n",
       "      <td>2.36</td>\n",
       "      <td>2.67</td>\n",
       "      <td>18.6</td>\n",
       "      <td>101.0</td>\n",
       "      <td>2.80</td>\n",
       "      <td>3.24</td>\n",
       "      <td>0.30</td>\n",
       "      <td>2.81</td>\n",
       "      <td>5.68</td>\n",
       "      <td>1.03</td>\n",
       "      <td>3.17</td>\n",
       "      <td>1185.0</td>\n",
       "      <td>0</td>\n",
       "    </tr>\n",
       "    <tr>\n",
       "      <th>3</th>\n",
       "      <td>14.37</td>\n",
       "      <td>1.95</td>\n",
       "      <td>2.50</td>\n",
       "      <td>16.8</td>\n",
       "      <td>113.0</td>\n",
       "      <td>3.85</td>\n",
       "      <td>3.49</td>\n",
       "      <td>0.24</td>\n",
       "      <td>2.18</td>\n",
       "      <td>7.80</td>\n",
       "      <td>0.86</td>\n",
       "      <td>3.45</td>\n",
       "      <td>1480.0</td>\n",
       "      <td>0</td>\n",
       "    </tr>\n",
       "    <tr>\n",
       "      <th>4</th>\n",
       "      <td>13.24</td>\n",
       "      <td>2.59</td>\n",
       "      <td>2.87</td>\n",
       "      <td>21.0</td>\n",
       "      <td>118.0</td>\n",
       "      <td>2.80</td>\n",
       "      <td>2.69</td>\n",
       "      <td>0.39</td>\n",
       "      <td>1.82</td>\n",
       "      <td>4.32</td>\n",
       "      <td>1.04</td>\n",
       "      <td>2.93</td>\n",
       "      <td>735.0</td>\n",
       "      <td>0</td>\n",
       "    </tr>\n",
       "  </tbody>\n",
       "</table>\n",
       "</div>"
      ],
      "text/plain": [
       "   alcohol  malic_acid   ash  alcalinity_of_ash  magnesium  total_phenols  \\\n",
       "0    14.23        1.71  2.43               15.6      127.0           2.80   \n",
       "1    13.20        1.78  2.14               11.2      100.0           2.65   \n",
       "2    13.16        2.36  2.67               18.6      101.0           2.80   \n",
       "3    14.37        1.95  2.50               16.8      113.0           3.85   \n",
       "4    13.24        2.59  2.87               21.0      118.0           2.80   \n",
       "\n",
       "   flavanoids  nonflavanoid_phenols  proanthocyanins  color_intensity   hue  \\\n",
       "0        3.06                  0.28             2.29             5.64  1.04   \n",
       "1        2.76                  0.26             1.28             4.38  1.05   \n",
       "2        3.24                  0.30             2.81             5.68  1.03   \n",
       "3        3.49                  0.24             2.18             7.80  0.86   \n",
       "4        2.69                  0.39             1.82             4.32  1.04   \n",
       "\n",
       "   od280/od315_of_diluted_wines  proline  target  \n",
       "0                          3.92   1065.0       0  \n",
       "1                          3.40   1050.0       0  \n",
       "2                          3.17   1185.0       0  \n",
       "3                          3.45   1480.0       0  \n",
       "4                          2.93    735.0       0  "
      ]
     },
     "execution_count": 2,
     "metadata": {},
     "output_type": "execute_result"
    }
   ],
   "source": [
    "# Splitting data in X(independent) and Y(dependent) variables.\n",
    "X, y = datasets.load_wine(return_X_y=True, as_frame=True)\n",
    "\n",
    "#Combine X and Y to do EDA\n",
    "df_wines= pd.concat([X,y.rename(\"target\")], axis=1)\n",
    "\n",
    "# Printing first observations\n",
    "df_wines.head().round(3)"
   ]
  },
  {
   "cell_type": "code",
   "execution_count": 3,
   "id": "bb098d35",
   "metadata": {},
   "outputs": [
    {
     "data": {
      "text/plain": [
       "(178, 14)"
      ]
     },
     "execution_count": 3,
     "metadata": {},
     "output_type": "execute_result"
    }
   ],
   "source": [
    "df_wines.shape"
   ]
  },
  {
   "cell_type": "code",
   "execution_count": 4,
   "id": "153bd783",
   "metadata": {},
   "outputs": [
    {
     "data": {
      "application/vnd.microsoft.datawrangler.viewer.v0+json": {
       "columns": [
        {
         "name": "index",
         "rawType": "object",
         "type": "string"
        },
        {
         "name": "0",
         "rawType": "object",
         "type": "unknown"
        }
       ],
       "ref": "c452cdfb-8295-46a7-8c00-ed6d7c76597c",
       "rows": [
        [
         "alcohol",
         "float64"
        ],
        [
         "malic_acid",
         "float64"
        ],
        [
         "ash",
         "float64"
        ],
        [
         "alcalinity_of_ash",
         "float64"
        ],
        [
         "magnesium",
         "float64"
        ],
        [
         "total_phenols",
         "float64"
        ],
        [
         "flavanoids",
         "float64"
        ],
        [
         "nonflavanoid_phenols",
         "float64"
        ],
        [
         "proanthocyanins",
         "float64"
        ],
        [
         "color_intensity",
         "float64"
        ],
        [
         "hue",
         "float64"
        ],
        [
         "od280/od315_of_diluted_wines",
         "float64"
        ],
        [
         "proline",
         "float64"
        ],
        [
         "target",
         "int64"
        ]
       ],
       "shape": {
        "columns": 1,
        "rows": 14
       }
      },
      "text/plain": [
       "alcohol                         float64\n",
       "malic_acid                      float64\n",
       "ash                             float64\n",
       "alcalinity_of_ash               float64\n",
       "magnesium                       float64\n",
       "total_phenols                   float64\n",
       "flavanoids                      float64\n",
       "nonflavanoid_phenols            float64\n",
       "proanthocyanins                 float64\n",
       "color_intensity                 float64\n",
       "hue                             float64\n",
       "od280/od315_of_diluted_wines    float64\n",
       "proline                         float64\n",
       "target                            int64\n",
       "dtype: object"
      ]
     },
     "execution_count": 4,
     "metadata": {},
     "output_type": "execute_result"
    }
   ],
   "source": [
    "df_wines.dtypes"
   ]
  },
  {
   "cell_type": "code",
   "execution_count": 5,
   "id": "cc7a0ba3",
   "metadata": {},
   "outputs": [
    {
     "data": {
      "application/vnd.microsoft.datawrangler.viewer.v0+json": {
       "columns": [
        {
         "name": "index",
         "rawType": "object",
         "type": "string"
        },
        {
         "name": "alcohol",
         "rawType": "float64",
         "type": "float"
        },
        {
         "name": "malic_acid",
         "rawType": "float64",
         "type": "float"
        },
        {
         "name": "ash",
         "rawType": "float64",
         "type": "float"
        },
        {
         "name": "alcalinity_of_ash",
         "rawType": "float64",
         "type": "float"
        },
        {
         "name": "magnesium",
         "rawType": "float64",
         "type": "float"
        },
        {
         "name": "total_phenols",
         "rawType": "float64",
         "type": "float"
        },
        {
         "name": "flavanoids",
         "rawType": "float64",
         "type": "float"
        },
        {
         "name": "nonflavanoid_phenols",
         "rawType": "float64",
         "type": "float"
        },
        {
         "name": "proanthocyanins",
         "rawType": "float64",
         "type": "float"
        },
        {
         "name": "color_intensity",
         "rawType": "float64",
         "type": "float"
        },
        {
         "name": "hue",
         "rawType": "float64",
         "type": "float"
        },
        {
         "name": "od280/od315_of_diluted_wines",
         "rawType": "float64",
         "type": "float"
        },
        {
         "name": "proline",
         "rawType": "float64",
         "type": "float"
        },
        {
         "name": "target",
         "rawType": "float64",
         "type": "float"
        }
       ],
       "ref": "38c1b86c-dcf1-4b82-ae8e-20ccc93073a3",
       "rows": [
        [
         "count",
         "178.0",
         "178.0",
         "178.0",
         "178.0",
         "178.0",
         "178.0",
         "178.0",
         "178.0",
         "178.0",
         "178.0",
         "178.0",
         "178.0",
         "178.0",
         "178.0"
        ],
        [
         "mean",
         "13.00061797752809",
         "2.3363483146067416",
         "2.3665168539325845",
         "19.49494382022472",
         "99.74157303370787",
         "2.295112359550562",
         "2.0292696629213487",
         "0.3618539325842696",
         "1.5908988764044945",
         "5.058089882022472",
         "0.9574494382022471",
         "2.6116853932584267",
         "746.8932584269663",
         "0.9382022471910112"
        ],
        [
         "std",
         "0.8118265380058575",
         "1.1171460976144627",
         "0.27434400906081485",
         "3.339563767173505",
         "14.282483515295665",
         "0.6258510488339893",
         "0.9988586850169467",
         "0.12445334029667937",
         "0.5723588626747613",
         "2.318285871822413",
         "0.22857156582982338",
         "0.7099904287650504",
         "314.9074742768491",
         "0.7750349899850564"
        ],
        [
         "min",
         "11.03",
         "0.74",
         "1.36",
         "10.6",
         "70.0",
         "0.98",
         "0.34",
         "0.13",
         "0.41",
         "1.28",
         "0.48",
         "1.27",
         "278.0",
         "0.0"
        ],
        [
         "25%",
         "12.362499999999999",
         "1.6025",
         "2.21",
         "17.2",
         "88.0",
         "1.7425",
         "1.205",
         "0.27",
         "1.25",
         "3.2199999999999998",
         "0.7825",
         "1.9375",
         "500.5",
         "0.0"
        ],
        [
         "50%",
         "13.05",
         "1.8650000000000002",
         "2.36",
         "19.5",
         "98.0",
         "2.355",
         "2.135",
         "0.34",
         "1.5550000000000002",
         "4.6899999999999995",
         "0.965",
         "2.78",
         "673.5",
         "1.0"
        ],
        [
         "75%",
         "13.6775",
         "3.0825",
         "2.5575",
         "21.5",
         "107.0",
         "2.8",
         "2.875",
         "0.4375",
         "1.95",
         "6.2",
         "1.12",
         "3.17",
         "985.0",
         "2.0"
        ],
        [
         "max",
         "14.83",
         "5.8",
         "3.23",
         "30.0",
         "162.0",
         "3.88",
         "5.08",
         "0.66",
         "3.58",
         "13.0",
         "1.71",
         "4.0",
         "1680.0",
         "2.0"
        ]
       ],
       "shape": {
        "columns": 14,
        "rows": 8
       }
      },
      "text/html": [
       "<div>\n",
       "<style scoped>\n",
       "    .dataframe tbody tr th:only-of-type {\n",
       "        vertical-align: middle;\n",
       "    }\n",
       "\n",
       "    .dataframe tbody tr th {\n",
       "        vertical-align: top;\n",
       "    }\n",
       "\n",
       "    .dataframe thead th {\n",
       "        text-align: right;\n",
       "    }\n",
       "</style>\n",
       "<table border=\"1\" class=\"dataframe\">\n",
       "  <thead>\n",
       "    <tr style=\"text-align: right;\">\n",
       "      <th></th>\n",
       "      <th>alcohol</th>\n",
       "      <th>malic_acid</th>\n",
       "      <th>ash</th>\n",
       "      <th>alcalinity_of_ash</th>\n",
       "      <th>magnesium</th>\n",
       "      <th>total_phenols</th>\n",
       "      <th>flavanoids</th>\n",
       "      <th>nonflavanoid_phenols</th>\n",
       "      <th>proanthocyanins</th>\n",
       "      <th>color_intensity</th>\n",
       "      <th>hue</th>\n",
       "      <th>od280/od315_of_diluted_wines</th>\n",
       "      <th>proline</th>\n",
       "      <th>target</th>\n",
       "    </tr>\n",
       "  </thead>\n",
       "  <tbody>\n",
       "    <tr>\n",
       "      <th>count</th>\n",
       "      <td>178.000000</td>\n",
       "      <td>178.000000</td>\n",
       "      <td>178.000000</td>\n",
       "      <td>178.000000</td>\n",
       "      <td>178.000000</td>\n",
       "      <td>178.000000</td>\n",
       "      <td>178.000000</td>\n",
       "      <td>178.000000</td>\n",
       "      <td>178.000000</td>\n",
       "      <td>178.000000</td>\n",
       "      <td>178.000000</td>\n",
       "      <td>178.000000</td>\n",
       "      <td>178.000000</td>\n",
       "      <td>178.000000</td>\n",
       "    </tr>\n",
       "    <tr>\n",
       "      <th>mean</th>\n",
       "      <td>13.000618</td>\n",
       "      <td>2.336348</td>\n",
       "      <td>2.366517</td>\n",
       "      <td>19.494944</td>\n",
       "      <td>99.741573</td>\n",
       "      <td>2.295112</td>\n",
       "      <td>2.029270</td>\n",
       "      <td>0.361854</td>\n",
       "      <td>1.590899</td>\n",
       "      <td>5.058090</td>\n",
       "      <td>0.957449</td>\n",
       "      <td>2.611685</td>\n",
       "      <td>746.893258</td>\n",
       "      <td>0.938202</td>\n",
       "    </tr>\n",
       "    <tr>\n",
       "      <th>std</th>\n",
       "      <td>0.811827</td>\n",
       "      <td>1.117146</td>\n",
       "      <td>0.274344</td>\n",
       "      <td>3.339564</td>\n",
       "      <td>14.282484</td>\n",
       "      <td>0.625851</td>\n",
       "      <td>0.998859</td>\n",
       "      <td>0.124453</td>\n",
       "      <td>0.572359</td>\n",
       "      <td>2.318286</td>\n",
       "      <td>0.228572</td>\n",
       "      <td>0.709990</td>\n",
       "      <td>314.907474</td>\n",
       "      <td>0.775035</td>\n",
       "    </tr>\n",
       "    <tr>\n",
       "      <th>min</th>\n",
       "      <td>11.030000</td>\n",
       "      <td>0.740000</td>\n",
       "      <td>1.360000</td>\n",
       "      <td>10.600000</td>\n",
       "      <td>70.000000</td>\n",
       "      <td>0.980000</td>\n",
       "      <td>0.340000</td>\n",
       "      <td>0.130000</td>\n",
       "      <td>0.410000</td>\n",
       "      <td>1.280000</td>\n",
       "      <td>0.480000</td>\n",
       "      <td>1.270000</td>\n",
       "      <td>278.000000</td>\n",
       "      <td>0.000000</td>\n",
       "    </tr>\n",
       "    <tr>\n",
       "      <th>25%</th>\n",
       "      <td>12.362500</td>\n",
       "      <td>1.602500</td>\n",
       "      <td>2.210000</td>\n",
       "      <td>17.200000</td>\n",
       "      <td>88.000000</td>\n",
       "      <td>1.742500</td>\n",
       "      <td>1.205000</td>\n",
       "      <td>0.270000</td>\n",
       "      <td>1.250000</td>\n",
       "      <td>3.220000</td>\n",
       "      <td>0.782500</td>\n",
       "      <td>1.937500</td>\n",
       "      <td>500.500000</td>\n",
       "      <td>0.000000</td>\n",
       "    </tr>\n",
       "    <tr>\n",
       "      <th>50%</th>\n",
       "      <td>13.050000</td>\n",
       "      <td>1.865000</td>\n",
       "      <td>2.360000</td>\n",
       "      <td>19.500000</td>\n",
       "      <td>98.000000</td>\n",
       "      <td>2.355000</td>\n",
       "      <td>2.135000</td>\n",
       "      <td>0.340000</td>\n",
       "      <td>1.555000</td>\n",
       "      <td>4.690000</td>\n",
       "      <td>0.965000</td>\n",
       "      <td>2.780000</td>\n",
       "      <td>673.500000</td>\n",
       "      <td>1.000000</td>\n",
       "    </tr>\n",
       "    <tr>\n",
       "      <th>75%</th>\n",
       "      <td>13.677500</td>\n",
       "      <td>3.082500</td>\n",
       "      <td>2.557500</td>\n",
       "      <td>21.500000</td>\n",
       "      <td>107.000000</td>\n",
       "      <td>2.800000</td>\n",
       "      <td>2.875000</td>\n",
       "      <td>0.437500</td>\n",
       "      <td>1.950000</td>\n",
       "      <td>6.200000</td>\n",
       "      <td>1.120000</td>\n",
       "      <td>3.170000</td>\n",
       "      <td>985.000000</td>\n",
       "      <td>2.000000</td>\n",
       "    </tr>\n",
       "    <tr>\n",
       "      <th>max</th>\n",
       "      <td>14.830000</td>\n",
       "      <td>5.800000</td>\n",
       "      <td>3.230000</td>\n",
       "      <td>30.000000</td>\n",
       "      <td>162.000000</td>\n",
       "      <td>3.880000</td>\n",
       "      <td>5.080000</td>\n",
       "      <td>0.660000</td>\n",
       "      <td>3.580000</td>\n",
       "      <td>13.000000</td>\n",
       "      <td>1.710000</td>\n",
       "      <td>4.000000</td>\n",
       "      <td>1680.000000</td>\n",
       "      <td>2.000000</td>\n",
       "    </tr>\n",
       "  </tbody>\n",
       "</table>\n",
       "</div>"
      ],
      "text/plain": [
       "          alcohol  malic_acid         ash  alcalinity_of_ash   magnesium  \\\n",
       "count  178.000000  178.000000  178.000000         178.000000  178.000000   \n",
       "mean    13.000618    2.336348    2.366517          19.494944   99.741573   \n",
       "std      0.811827    1.117146    0.274344           3.339564   14.282484   \n",
       "min     11.030000    0.740000    1.360000          10.600000   70.000000   \n",
       "25%     12.362500    1.602500    2.210000          17.200000   88.000000   \n",
       "50%     13.050000    1.865000    2.360000          19.500000   98.000000   \n",
       "75%     13.677500    3.082500    2.557500          21.500000  107.000000   \n",
       "max     14.830000    5.800000    3.230000          30.000000  162.000000   \n",
       "\n",
       "       total_phenols  flavanoids  nonflavanoid_phenols  proanthocyanins  \\\n",
       "count     178.000000  178.000000            178.000000       178.000000   \n",
       "mean        2.295112    2.029270              0.361854         1.590899   \n",
       "std         0.625851    0.998859              0.124453         0.572359   \n",
       "min         0.980000    0.340000              0.130000         0.410000   \n",
       "25%         1.742500    1.205000              0.270000         1.250000   \n",
       "50%         2.355000    2.135000              0.340000         1.555000   \n",
       "75%         2.800000    2.875000              0.437500         1.950000   \n",
       "max         3.880000    5.080000              0.660000         3.580000   \n",
       "\n",
       "       color_intensity         hue  od280/od315_of_diluted_wines      proline  \\\n",
       "count       178.000000  178.000000                    178.000000   178.000000   \n",
       "mean          5.058090    0.957449                      2.611685   746.893258   \n",
       "std           2.318286    0.228572                      0.709990   314.907474   \n",
       "min           1.280000    0.480000                      1.270000   278.000000   \n",
       "25%           3.220000    0.782500                      1.937500   500.500000   \n",
       "50%           4.690000    0.965000                      2.780000   673.500000   \n",
       "75%           6.200000    1.120000                      3.170000   985.000000   \n",
       "max          13.000000    1.710000                      4.000000  1680.000000   \n",
       "\n",
       "           target  \n",
       "count  178.000000  \n",
       "mean     0.938202  \n",
       "std      0.775035  \n",
       "min      0.000000  \n",
       "25%      0.000000  \n",
       "50%      1.000000  \n",
       "75%      2.000000  \n",
       "max      2.000000  "
      ]
     },
     "execution_count": 5,
     "metadata": {},
     "output_type": "execute_result"
    }
   ],
   "source": [
    "df_wines.describe()\n"
   ]
  },
  {
   "cell_type": "markdown",
   "id": "43992b36",
   "metadata": {},
   "source": [
    "### ***FINDINGS***\n",
    "\n",
    "The actual dataset has `178` observations and  `14` features, where class feature is the target variable.\n",
    "\n",
    "The target variable is categorical with three classes: 0, 1, and 2. If we see the distribution, it is evident that this shows class imbalance with class 1 being the most frequent due the mean 0.93.\n",
    "\n",
    "The features are not scaled."
   ]
  },
  {
   "cell_type": "markdown",
   "id": "779101a3",
   "metadata": {},
   "source": [
    "### 2. Split test and train \n",
    "Using the 80%-20% approach."
   ]
  },
  {
   "cell_type": "code",
   "execution_count": 6,
   "id": "f75f3255",
   "metadata": {},
   "outputs": [],
   "source": [
    "# Split test and train\n",
    "X_train, X_test, y_train, y_test = train_test_split(X, y, test_size=0.2, random_state=42)"
   ]
  },
  {
   "cell_type": "markdown",
   "id": "33e89366",
   "metadata": {},
   "source": [
    "Validating the number of each dataset"
   ]
  },
  {
   "cell_type": "code",
   "execution_count": 7,
   "id": "768a72d5",
   "metadata": {},
   "outputs": [
    {
     "name": "stdout",
     "output_type": "stream",
     "text": [
      "Rows in the train set: 142\n",
      "Rows in the test set: 36\n"
     ]
    }
   ],
   "source": [
    "print(f\"Rows in the train set: {len(X_train)}\")\n",
    "print(f\"Rows in the test set: {len(X_test)}\")"
   ]
  },
  {
   "cell_type": "markdown",
   "id": "a3bd8292",
   "metadata": {},
   "source": [
    "### 3. Multinomial Naive Bayes \n",
    "This algorithm is based on Bayes’ Theorem, ideal for classification problems like in this case, classify the wines."
   ]
  },
  {
   "cell_type": "code",
   "execution_count": 8,
   "id": "89d9ca28",
   "metadata": {},
   "outputs": [
    {
     "name": "stdout",
     "output_type": "stream",
     "text": [
      "Miltunomial Accuracy: 88.89%\n",
      "\n"
     ]
    }
   ],
   "source": [
    "#*-----------Transform a positive numbers------------*\n",
    "X_train_abs = np.abs(X_train)\n",
    "X_test_abs = np.abs(X_test)\n",
    "\n",
    "#*-----------Training the Multinomial Naive Bayes Model------------*\n",
    "mul_model = MultinomialNB()\n",
    "mul_model.fit(X_train, y_train)\n",
    "\n",
    "#*---------------Prediction in the test dataset-------------------*\n",
    "y_pred = mul_model.predict(X_test)\n",
    "\n",
    "#*--------------------Evaluating Accuracy-------------------------*\n",
    "accuracy = accuracy_score(y_test, y_pred)\n",
    "print(f\"Miltunomial Accuracy: {accuracy * 100:.2f}%\\n\")"
   ]
  },
  {
   "cell_type": "markdown",
   "id": "85ca1237",
   "metadata": {},
   "source": [
    "> The Multinomial model requires positive numbers, so the data was converted accordingly. Multinomial Naive Bayes is designed for discrete data. In this case, since the Wine dataset contains continuous values, its performance may be limited. However the accuracy for this model was `88.89%` which is acceptable."
   ]
  },
  {
   "cell_type": "markdown",
   "id": "3afa2836",
   "metadata": {},
   "source": [
    "### 4. Gaussian Naive Bayes \n",
    "This algorithm is also ideal for classification. Based on the chemical properties, it uses continuous values to classify the wines more effectively."
   ]
  },
  {
   "cell_type": "code",
   "execution_count": 9,
   "id": "3e5d42f7",
   "metadata": {},
   "outputs": [
    {
     "name": "stdout",
     "output_type": "stream",
     "text": [
      "Gaussian Accuracy: 100.00%\n"
     ]
    }
   ],
   "source": [
    "#*-----------Training the Gaussian Naive Bayes Model------------*\n",
    "gau_model = GaussianNB()\n",
    "gau_model.fit(X_train, y_train)\n",
    "\n",
    "#*---------------Prediction in the test dataset-------------------*\n",
    "y_pred_gauss = gau_model.predict(X_test)\n",
    "\n",
    "#*--------------------Evaluating Accuracy-------------------------*\n",
    "accuracy_gauss = accuracy_score(y_test, y_pred_gauss)\n",
    "print(f\"Gaussian Accuracy: {accuracy_gauss * 100:.2f}%\")"
   ]
  },
  {
   "cell_type": "markdown",
   "id": "a760bb3f",
   "metadata": {},
   "source": [
    "> This Gaussian model performs well because as said before, the wine dataset contains continuous features. Due to this features fit the assumptions of the Gaussian distribution, I obtained better results `100%` indicating that the model generalized well, especially when compared to the lower performance of the Multinomial model."
   ]
  },
  {
   "cell_type": "markdown",
   "id": "bedfb372",
   "metadata": {},
   "source": [
    "### 4. Predicting some observations\n",
    "I will take a few samples from the test dataset and compare the results between the two models."
   ]
  },
  {
   "cell_type": "code",
   "execution_count": 10,
   "id": "14eafe9e",
   "metadata": {},
   "outputs": [
    {
     "data": {
      "application/vnd.microsoft.datawrangler.viewer.v0+json": {
       "columns": [
        {
         "name": "index",
         "rawType": "int64",
         "type": "integer"
        },
        {
         "name": "Sample Index",
         "rawType": "int64",
         "type": "integer"
        },
        {
         "name": "Real Label",
         "rawType": "int64",
         "type": "integer"
        },
        {
         "name": "GaussianNB Prediction",
         "rawType": "int64",
         "type": "integer"
        },
        {
         "name": "MultinomialNB Prediction",
         "rawType": "int64",
         "type": "integer"
        }
       ],
       "ref": "fdefea98-8395-463e-bb9b-9a21f7664af4",
       "rows": [
        [
         "0",
         "111",
         "1",
         "1",
         "1"
        ],
        [
         "1",
         "45",
         "0",
         "0",
         "0"
        ],
        [
         "2",
         "140",
         "2",
         "2",
         "2"
        ],
        [
         "3",
         "67",
         "1",
         "1",
         "1"
        ],
        [
         "4",
         "90",
         "1",
         "1",
         "1"
        ]
       ],
       "shape": {
        "columns": 4,
        "rows": 5
       }
      },
      "text/html": [
       "<div>\n",
       "<style scoped>\n",
       "    .dataframe tbody tr th:only-of-type {\n",
       "        vertical-align: middle;\n",
       "    }\n",
       "\n",
       "    .dataframe tbody tr th {\n",
       "        vertical-align: top;\n",
       "    }\n",
       "\n",
       "    .dataframe thead th {\n",
       "        text-align: right;\n",
       "    }\n",
       "</style>\n",
       "<table border=\"1\" class=\"dataframe\">\n",
       "  <thead>\n",
       "    <tr style=\"text-align: right;\">\n",
       "      <th></th>\n",
       "      <th>Sample Index</th>\n",
       "      <th>Real Label</th>\n",
       "      <th>GaussianNB Prediction</th>\n",
       "      <th>MultinomialNB Prediction</th>\n",
       "    </tr>\n",
       "  </thead>\n",
       "  <tbody>\n",
       "    <tr>\n",
       "      <th>0</th>\n",
       "      <td>111</td>\n",
       "      <td>1</td>\n",
       "      <td>1</td>\n",
       "      <td>1</td>\n",
       "    </tr>\n",
       "    <tr>\n",
       "      <th>1</th>\n",
       "      <td>45</td>\n",
       "      <td>0</td>\n",
       "      <td>0</td>\n",
       "      <td>0</td>\n",
       "    </tr>\n",
       "    <tr>\n",
       "      <th>2</th>\n",
       "      <td>140</td>\n",
       "      <td>2</td>\n",
       "      <td>2</td>\n",
       "      <td>2</td>\n",
       "    </tr>\n",
       "    <tr>\n",
       "      <th>3</th>\n",
       "      <td>67</td>\n",
       "      <td>1</td>\n",
       "      <td>1</td>\n",
       "      <td>1</td>\n",
       "    </tr>\n",
       "    <tr>\n",
       "      <th>4</th>\n",
       "      <td>90</td>\n",
       "      <td>1</td>\n",
       "      <td>1</td>\n",
       "      <td>1</td>\n",
       "    </tr>\n",
       "  </tbody>\n",
       "</table>\n",
       "</div>"
      ],
      "text/plain": [
       "   Sample Index  Real Label  GaussianNB Prediction  MultinomialNB Prediction\n",
       "0           111           1                      1                         1\n",
       "1            45           0                      0                         0\n",
       "2           140           2                      2                         2\n",
       "3            67           1                      1                         1\n",
       "4            90           1                      1                         1"
      ]
     },
     "execution_count": 10,
     "metadata": {},
     "output_type": "execute_result"
    }
   ],
   "source": [
    "# Creating a sample with 5 observations\n",
    "samples = X_test.iloc[[15, 1, 2, 4, 28]]\n",
    "labels = y_test.iloc[[15, 1, 2, 4, 28]]\n",
    "\n",
    "pred_gau = gau_model.predict(samples)\n",
    "pred_mul = mul_model.predict(np.abs(samples)) \n",
    "\n",
    "comparison_df = pd.DataFrame({\n",
    "    \"Sample Index\": samples.index,\n",
    "    \"Real Label\": labels.values,\n",
    "    \"GaussianNB Prediction\": pred_gau,\n",
    "    \"MultinomialNB Prediction\": pred_mul\n",
    "})\n",
    "\n",
    "comparison_df"
   ]
  },
  {
   "cell_type": "markdown",
   "id": "5fd8c5b1",
   "metadata": {},
   "source": [
    "### 4. Conclusion\n",
    "\n",
    "Gaussian reached an accuracy of `100%`, while Multinomial got `89%`.\n",
    "\n",
    "From the follow confusion matrices, we can see that GaussianNB predictions are always aligned with the real labels. Confirming that Gaussian model is more suitable for continuous data like the features in the Wine dataset.\n",
    "\n",
    "On the other hand, MultinomialNB made some classification errors, particularly in class 2, where it misclassified instances as class 0 and 1."
   ]
  },
  {
   "cell_type": "code",
   "execution_count": 11,
   "id": "95a9d3e7",
   "metadata": {},
   "outputs": [
    {
     "data": {
      "image/png": "[encoded data removed]",
      "text/plain": [
       "<Figure size 640x480 with 2 Axes>"
      ]
     },
     "metadata": {},
     "output_type": "display_data"
    },
    {
     "data": {
      "image/png": "[encoded data removed]",
      "text/plain": [
       "<Figure size 640x480 with 2 Axes>"
      ]
     },
     "metadata": {},
     "output_type": "display_data"
    }
   ],
   "source": [
    "#  Gaussian Matrix\n",
    "disp_gau = ConfusionMatrixDisplay(confusion_matrix(y_test, y_pred_gauss))\n",
    "disp_gau.plot()\n",
    "plt.title(\"Confusion Matrix - GaussianNB\")\n",
    "plt.show()\n",
    "\n",
    "# Multinomial matrix\n",
    "disp_mul = ConfusionMatrixDisplay(confusion_matrix(y_test, y_pred))\n",
    "disp_mul.plot()\n",
    "plt.title(\"Confusion Matrix - MultinomialNB\")\n",
    "plt.show()"
   ]
  },
  {
   "cell_type": "markdown",
   "id": "90626d7c",
   "metadata": {},
   "source": [
    "## **Logistic Regression with Cross-Validation for the Flower Dataset**\n",
    "\n",
    "Now, in this section I will build model to predict the species of Iris Flowers in the  `Flower Dataset`.\n",
    "\n",
    "The models considered is:\n",
    "\n",
    "Logistic Regression\n",
    "\n",
    "To evaluate the model's performance, I apply cross-validation using cross_val_score from sklearn."
   ]
  },
  {
   "cell_type": "markdown",
   "id": "535b0c9b",
   "metadata": {},
   "source": [
    "### 1. Data Collection\n",
    "Load and preprocess the data using sklearn.datasets.\n",
    "\n",
    "**Data Set Characteristics:**\n",
    "\n",
    "***Number of Instances:*** 150 (50 in each of the three classes)\n",
    "\n",
    "***Number of Attributes:*** 4 numeric, predictive attributes and one class label\n",
    "\n",
    "***Attribute Information:***\n",
    "- Sepal length (cm)\n",
    "- Sepal width (cm)\n",
    "- Petal length (cm)\n",
    "- Petal width (cm) \n",
    "- Class: Iris flower species (target)\n",
    "    - setosa\n",
    "    - versicolor\n",
    "    - virginica\n"
   ]
  },
  {
   "cell_type": "code",
   "execution_count": 12,
   "id": "a2665696",
   "metadata": {},
   "outputs": [
    {
     "data": {
      "application/vnd.microsoft.datawrangler.viewer.v0+json": {
       "columns": [
        {
         "name": "index",
         "rawType": "int64",
         "type": "integer"
        },
        {
         "name": "sepal length (cm)",
         "rawType": "float64",
         "type": "float"
        },
        {
         "name": "sepal width (cm)",
         "rawType": "float64",
         "type": "float"
        },
        {
         "name": "petal length (cm)",
         "rawType": "float64",
         "type": "float"
        },
        {
         "name": "petal width (cm)",
         "rawType": "float64",
         "type": "float"
        },
        {
         "name": "target",
         "rawType": "int64",
         "type": "integer"
        }
       ],
       "ref": "471c98bd-f2d2-4ae6-8846-c2baa8b0eacf",
       "rows": [
        [
         "0",
         "5.1",
         "3.5",
         "1.4",
         "0.2",
         "0"
        ],
        [
         "1",
         "4.9",
         "3.0",
         "1.4",
         "0.2",
         "0"
        ],
        [
         "2",
         "4.7",
         "3.2",
         "1.3",
         "0.2",
         "0"
        ],
        [
         "3",
         "4.6",
         "3.1",
         "1.5",
         "0.2",
         "0"
        ],
        [
         "4",
         "5.0",
         "3.6",
         "1.4",
         "0.2",
         "0"
        ]
       ],
       "shape": {
        "columns": 5,
        "rows": 5
       }
      },
      "text/html": [
       "<div>\n",
       "<style scoped>\n",
       "    .dataframe tbody tr th:only-of-type {\n",
       "        vertical-align: middle;\n",
       "    }\n",
       "\n",
       "    .dataframe tbody tr th {\n",
       "        vertical-align: top;\n",
       "    }\n",
       "\n",
       "    .dataframe thead th {\n",
       "        text-align: right;\n",
       "    }\n",
       "</style>\n",
       "<table border=\"1\" class=\"dataframe\">\n",
       "  <thead>\n",
       "    <tr style=\"text-align: right;\">\n",
       "      <th></th>\n",
       "      <th>sepal length (cm)</th>\n",
       "      <th>sepal width (cm)</th>\n",
       "      <th>petal length (cm)</th>\n",
       "      <th>petal width (cm)</th>\n",
       "      <th>target</th>\n",
       "    </tr>\n",
       "  </thead>\n",
       "  <tbody>\n",
       "    <tr>\n",
       "      <th>0</th>\n",
       "      <td>5.1</td>\n",
       "      <td>3.5</td>\n",
       "      <td>1.4</td>\n",
       "      <td>0.2</td>\n",
       "      <td>0</td>\n",
       "    </tr>\n",
       "    <tr>\n",
       "      <th>1</th>\n",
       "      <td>4.9</td>\n",
       "      <td>3.0</td>\n",
       "      <td>1.4</td>\n",
       "      <td>0.2</td>\n",
       "      <td>0</td>\n",
       "    </tr>\n",
       "    <tr>\n",
       "      <th>2</th>\n",
       "      <td>4.7</td>\n",
       "      <td>3.2</td>\n",
       "      <td>1.3</td>\n",
       "      <td>0.2</td>\n",
       "      <td>0</td>\n",
       "    </tr>\n",
       "    <tr>\n",
       "      <th>3</th>\n",
       "      <td>4.6</td>\n",
       "      <td>3.1</td>\n",
       "      <td>1.5</td>\n",
       "      <td>0.2</td>\n",
       "      <td>0</td>\n",
       "    </tr>\n",
       "    <tr>\n",
       "      <th>4</th>\n",
       "      <td>5.0</td>\n",
       "      <td>3.6</td>\n",
       "      <td>1.4</td>\n",
       "      <td>0.2</td>\n",
       "      <td>0</td>\n",
       "    </tr>\n",
       "  </tbody>\n",
       "</table>\n",
       "</div>"
      ],
      "text/plain": [
       "   sepal length (cm)  sepal width (cm)  petal length (cm)  petal width (cm)  \\\n",
       "0                5.1               3.5                1.4               0.2   \n",
       "1                4.9               3.0                1.4               0.2   \n",
       "2                4.7               3.2                1.3               0.2   \n",
       "3                4.6               3.1                1.5               0.2   \n",
       "4                5.0               3.6                1.4               0.2   \n",
       "\n",
       "   target  \n",
       "0       0  \n",
       "1       0  \n",
       "2       0  \n",
       "3       0  \n",
       "4       0  "
      ]
     },
     "execution_count": 12,
     "metadata": {},
     "output_type": "execute_result"
    }
   ],
   "source": [
    "# Splitting data in X(independent) and Y(dependent) variables.\n",
    "X, y = datasets.load_iris(return_X_y=True, as_frame=True)\n",
    "\n",
    "#Combine X and Y to do EDA\n",
    "df_flowers= pd.concat([X,y.rename(\"target\")], axis=1)\n",
    "\n",
    "# Printing first observations\n",
    "df_flowers.head().round(3)"
   ]
  },
  {
   "cell_type": "code",
   "execution_count": 13,
   "id": "611e8a9a",
   "metadata": {},
   "outputs": [
    {
     "data": {
      "text/plain": [
       "(150, 5)"
      ]
     },
     "execution_count": 13,
     "metadata": {},
     "output_type": "execute_result"
    }
   ],
   "source": [
    "df_flowers.shape"
   ]
  },
  {
   "cell_type": "code",
   "execution_count": 14,
   "id": "9fdf7197",
   "metadata": {},
   "outputs": [
    {
     "data": {
      "application/vnd.microsoft.datawrangler.viewer.v0+json": {
       "columns": [
        {
         "name": "index",
         "rawType": "object",
         "type": "string"
        },
        {
         "name": "0",
         "rawType": "object",
         "type": "unknown"
        }
       ],
       "ref": "23b33836-c457-4e64-b63a-cb34ef4b90c3",
       "rows": [
        [
         "sepal length (cm)",
         "float64"
        ],
        [
         "sepal width (cm)",
         "float64"
        ],
        [
         "petal length (cm)",
         "float64"
        ],
        [
         "petal width (cm)",
         "float64"
        ],
        [
         "target",
         "int64"
        ]
       ],
       "shape": {
        "columns": 1,
        "rows": 5
       }
      },
      "text/plain": [
       "sepal length (cm)    float64\n",
       "sepal width (cm)     float64\n",
       "petal length (cm)    float64\n",
       "petal width (cm)     float64\n",
       "target                 int64\n",
       "dtype: object"
      ]
     },
     "execution_count": 14,
     "metadata": {},
     "output_type": "execute_result"
    }
   ],
   "source": [
    "df_flowers.dtypes"
   ]
  },
  {
   "cell_type": "code",
   "execution_count": 15,
   "id": "2dfc6095",
   "metadata": {},
   "outputs": [
    {
     "data": {
      "application/vnd.microsoft.datawrangler.viewer.v0+json": {
       "columns": [
        {
         "name": "index",
         "rawType": "object",
         "type": "string"
        },
        {
         "name": "sepal length (cm)",
         "rawType": "float64",
         "type": "float"
        },
        {
         "name": "sepal width (cm)",
         "rawType": "float64",
         "type": "float"
        },
        {
         "name": "petal length (cm)",
         "rawType": "float64",
         "type": "float"
        },
        {
         "name": "petal width (cm)",
         "rawType": "float64",
         "type": "float"
        },
        {
         "name": "target",
         "rawType": "float64",
         "type": "float"
        }
       ],
       "ref": "d4ad3cc5-b171-458e-8a11-19befbd45e11",
       "rows": [
        [
         "count",
         "150.0",
         "150.0",
         "150.0",
         "150.0",
         "150.0"
        ],
        [
         "mean",
         "5.843333333333334",
         "3.0573333333333337",
         "3.7580000000000005",
         "1.1993333333333336",
         "1.0"
        ],
        [
         "std",
         "0.828066127977863",
         "0.4358662849366982",
         "1.7652982332594662",
         "0.7622376689603465",
         "0.8192319205190405"
        ],
        [
         "min",
         "4.3",
         "2.0",
         "1.0",
         "0.1",
         "0.0"
        ],
        [
         "25%",
         "5.1",
         "2.8",
         "1.6",
         "0.3",
         "0.0"
        ],
        [
         "50%",
         "5.8",
         "3.0",
         "4.35",
         "1.3",
         "1.0"
        ],
        [
         "75%",
         "6.4",
         "3.3",
         "5.1",
         "1.8",
         "2.0"
        ],
        [
         "max",
         "7.9",
         "4.4",
         "6.9",
         "2.5",
         "2.0"
        ]
       ],
       "shape": {
        "columns": 5,
        "rows": 8
       }
      },
      "text/html": [
       "<div>\n",
       "<style scoped>\n",
       "    .dataframe tbody tr th:only-of-type {\n",
       "        vertical-align: middle;\n",
       "    }\n",
       "\n",
       "    .dataframe tbody tr th {\n",
       "        vertical-align: top;\n",
       "    }\n",
       "\n",
       "    .dataframe thead th {\n",
       "        text-align: right;\n",
       "    }\n",
       "</style>\n",
       "<table border=\"1\" class=\"dataframe\">\n",
       "  <thead>\n",
       "    <tr style=\"text-align: right;\">\n",
       "      <th></th>\n",
       "      <th>sepal length (cm)</th>\n",
       "      <th>sepal width (cm)</th>\n",
       "      <th>petal length (cm)</th>\n",
       "      <th>petal width (cm)</th>\n",
       "      <th>target</th>\n",
       "    </tr>\n",
       "  </thead>\n",
       "  <tbody>\n",
       "    <tr>\n",
       "      <th>count</th>\n",
       "      <td>150.000000</td>\n",
       "      <td>150.000000</td>\n",
       "      <td>150.000000</td>\n",
       "      <td>150.000000</td>\n",
       "      <td>150.000000</td>\n",
       "    </tr>\n",
       "    <tr>\n",
       "      <th>mean</th>\n",
       "      <td>5.843333</td>\n",
       "      <td>3.057333</td>\n",
       "      <td>3.758000</td>\n",
       "      <td>1.199333</td>\n",
       "      <td>1.000000</td>\n",
       "    </tr>\n",
       "    <tr>\n",
       "      <th>std</th>\n",
       "      <td>0.828066</td>\n",
       "      <td>0.435866</td>\n",
       "      <td>1.765298</td>\n",
       "      <td>0.762238</td>\n",
       "      <td>0.819232</td>\n",
       "    </tr>\n",
       "    <tr>\n",
       "      <th>min</th>\n",
       "      <td>4.300000</td>\n",
       "      <td>2.000000</td>\n",
       "      <td>1.000000</td>\n",
       "      <td>0.100000</td>\n",
       "      <td>0.000000</td>\n",
       "    </tr>\n",
       "    <tr>\n",
       "      <th>25%</th>\n",
       "      <td>5.100000</td>\n",
       "      <td>2.800000</td>\n",
       "      <td>1.600000</td>\n",
       "      <td>0.300000</td>\n",
       "      <td>0.000000</td>\n",
       "    </tr>\n",
       "    <tr>\n",
       "      <th>50%</th>\n",
       "      <td>5.800000</td>\n",
       "      <td>3.000000</td>\n",
       "      <td>4.350000</td>\n",
       "      <td>1.300000</td>\n",
       "      <td>1.000000</td>\n",
       "    </tr>\n",
       "    <tr>\n",
       "      <th>75%</th>\n",
       "      <td>6.400000</td>\n",
       "      <td>3.300000</td>\n",
       "      <td>5.100000</td>\n",
       "      <td>1.800000</td>\n",
       "      <td>2.000000</td>\n",
       "    </tr>\n",
       "    <tr>\n",
       "      <th>max</th>\n",
       "      <td>7.900000</td>\n",
       "      <td>4.400000</td>\n",
       "      <td>6.900000</td>\n",
       "      <td>2.500000</td>\n",
       "      <td>2.000000</td>\n",
       "    </tr>\n",
       "  </tbody>\n",
       "</table>\n",
       "</div>"
      ],
      "text/plain": [
       "       sepal length (cm)  sepal width (cm)  petal length (cm)  \\\n",
       "count         150.000000        150.000000         150.000000   \n",
       "mean            5.843333          3.057333           3.758000   \n",
       "std             0.828066          0.435866           1.765298   \n",
       "min             4.300000          2.000000           1.000000   \n",
       "25%             5.100000          2.800000           1.600000   \n",
       "50%             5.800000          3.000000           4.350000   \n",
       "75%             6.400000          3.300000           5.100000   \n",
       "max             7.900000          4.400000           6.900000   \n",
       "\n",
       "       petal width (cm)      target  \n",
       "count        150.000000  150.000000  \n",
       "mean           1.199333    1.000000  \n",
       "std            0.762238    0.819232  \n",
       "min            0.100000    0.000000  \n",
       "25%            0.300000    0.000000  \n",
       "50%            1.300000    1.000000  \n",
       "75%            1.800000    2.000000  \n",
       "max            2.500000    2.000000  "
      ]
     },
     "execution_count": 15,
     "metadata": {},
     "output_type": "execute_result"
    }
   ],
   "source": [
    "df_flowers.describe()\n"
   ]
  },
  {
   "cell_type": "markdown",
   "id": "f71c3ba2",
   "metadata": {},
   "source": [
    "### ***FINDINGS***\n",
    "\n",
    "The actual dataset has `150` observations and  `5` features, where the target variable represents the iris flower species.\n",
    "\n",
    "The target variable is numerical  with three classes: 0, 1, and 2. If we see the distribution, the median value is 1.0 and the standard deviation is 0.81, suggesting a slight concentration around class 1.\n",
    "\n",
    "The features are not scaled."
   ]
  },
  {
   "cell_type": "markdown",
   "id": "5cb6ecbd",
   "metadata": {},
   "source": [
    "### 3. Logistic Regression\n",
    "This algorithm is based on the logistic function. In this case, it will be used to classify iris flowers into three categories based on their features.\n",
    "\n"
   ]
  },
  {
   "cell_type": "code",
   "execution_count": 16,
   "id": "6d753ff7",
   "metadata": {},
   "outputs": [],
   "source": [
    "# Defining the model.\n",
    "lr_model = LogisticRegression(max_iter=200) "
   ]
  },
  {
   "cell_type": "markdown",
   "id": "1b76a8b2",
   "metadata": {},
   "source": [
    "### 3. Applying Cross Val Score\n",
    "With this approach, the dataset is divided into 4 parts. This means the model will be trained and evaluated 5 times using different data splits. This strategy helps assess whether the model generalizes well to unseen data."
   ]
  },
  {
   "cell_type": "code",
   "execution_count": 17,
   "id": "cfce5e16",
   "metadata": {},
   "outputs": [
    {
     "name": "stdout",
     "output_type": "stream",
     "text": [
      "Cross-validation scores for each fold: [0.97368421 0.97368421 0.94594595 1.        ]\n",
      "Average accuracy: 0.9733285917496444\n"
     ]
    }
   ],
   "source": [
    "# Evaluating the model with cross val score\n",
    "\n",
    "scores = cross_val_score(lr_model, X, y, cv=4)\n",
    "\n",
    "# Showing the results\n",
    "print(\"Cross-validation scores for each fold:\", scores)\n",
    "print(\"Average accuracy:\", np.mean(scores))\n"
   ]
  },
  {
   "cell_type": "markdown",
   "id": "c9181e64",
   "metadata": {},
   "source": [
    "> By using the `cross_val_score strategy` with `cv=4`, the dataset is divided into 4 parts. The model is trained and evaluated 4 times, each time using a different fold as the test set. This allows us to measure the accuracy as an evaluation metric for each fold.\n",
    "\n"
   ]
  },
  {
   "cell_type": "code",
   "execution_count": 18,
   "id": "7326ce77",
   "metadata": {},
   "outputs": [
    {
     "data": {
      "image/png": "[encoded data removed]",
      "text/plain": [
       "<Figure size 400x400 with 1 Axes>"
      ]
     },
     "metadata": {},
     "output_type": "display_data"
    }
   ],
   "source": [
    "#  Plottin to sow accuracy\n",
    "plt.figure(figsize=(4, 4))\n",
    "plt.bar(range(1, 5), scores, color='skyblue')\n",
    "plt.ylim(0.8, 1.05)\n",
    "plt.xticks(range(1, 5), [f'Fold {i}' for i in range(1, 5)], size=8)\n",
    "plt.yticks(size=8)\n",
    "plt.title('Accuracy per Fold (Logistic Regression with CV=4)')\n",
    "plt.xlabel('Fold', size=10)\n",
    "plt.ylabel('Accuracy', size=10)\n",
    "plt.tight_layout()\n",
    "plt.show()"
   ]
  },
  {
   "cell_type": "markdown",
   "id": "7c4bcd94",
   "metadata": {},
   "source": [
    "**Conclusion**\n",
    "\n",
    "The logistic regression model showed high accuracy across in all folds during cross-validation, this means that the model performs reliably on the Iris dataset. \n",
    "The low variation in accuracy scores further shows its stability."
   ]
  },
  {
   "cell_type": "markdown",
   "id": "63796379",
   "metadata": {},
   "source": [
    "***Reference:*** \n",
    "\n",
    "GeeksforGeeks. (n.d.). Multinomial Naive Bayes. GeeksforGeeks. https://www.geeksforgeeks.org/machine-learning/multinomial-naive-bayes/\n",
    "\n",
    "**Paula Ramirez**\n",
    "`Student ID 8963215`"
   ]
  }
 ],
 "metadata": {
  "kernelspec": {
   "display_name": "venv-PR-Lab4",
   "language": "python",
   "name": "python3"
  },
  "language_info": {
   "codemirror_mode": {
    "name": "ipython",
    "version": 3
   },
   "file_extension": ".py",
   "mimetype": "text/x-python",
   "name": "python",
   "nbconvert_exporter": "python",
   "pygments_lexer": "ipython3",
   "version": "3.12.2"
  }
 },
 "nbformat": 4,
 "nbformat_minor": 5
}
